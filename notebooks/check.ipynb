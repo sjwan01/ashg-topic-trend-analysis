{
 "cells": [
  {
   "cell_type": "code",
   "execution_count": 22,
   "metadata": {},
   "outputs": [],
   "source": [
    "import os\n",
    "import pandas as pd\n",
    "import re"
   ]
  },
  {
   "cell_type": "code",
   "execution_count": 23,
   "metadata": {},
   "outputs": [],
   "source": [
    "SCRIPT_DIR = os.getcwd()\n",
    "PARENT_DIR = os.path.dirname(SCRIPT_DIR)\n",
    "DATA_FOLDER_PATH = os.path.join(PARENT_DIR, 'data')\n",
    "PDF_FOLDER_PATH = os.path.join(DATA_FOLDER_PATH, 'pdf')\n",
    "CSV_FOLDER_PATH = os.path.join(DATA_FOLDER_PATH, 'csv')"
   ]
  },
  {
   "cell_type": "code",
   "execution_count": 75,
   "metadata": {},
   "outputs": [],
   "source": [
    "pl2022 = pd.read_csv(os.path.join(CSV_FOLDER_PATH, 'ASHG2022-PosterAbstracts.csv'))"
   ]
  },
  {
   "cell_type": "code",
   "execution_count": 77,
   "metadata": {},
   "outputs": [
    {
     "data": {
      "text/html": [
       "<div>\n",
       "<style scoped>\n",
       "    .dataframe tbody tr th:only-of-type {\n",
       "        vertical-align: middle;\n",
       "    }\n",
       "\n",
       "    .dataframe tbody tr th {\n",
       "        vertical-align: top;\n",
       "    }\n",
       "\n",
       "    .dataframe thead th {\n",
       "        text-align: right;\n",
       "    }\n",
       "</style>\n",
       "<table border=\"1\" class=\"dataframe\">\n",
       "  <thead>\n",
       "    <tr style=\"text-align: right;\">\n",
       "      <th></th>\n",
       "      <th>id</th>\n",
       "      <th>title</th>\n",
       "      <th>authors</th>\n",
       "      <th>content</th>\n",
       "      <th>header</th>\n",
       "      <th>year</th>\n",
       "    </tr>\n",
       "  </thead>\n",
       "  <tbody>\n",
       "    <tr>\n",
       "      <th>528</th>\n",
       "      <td>NaN</td>\n",
       "      <td>NaN</td>\n",
       "      <td>NaN</td>\n",
       "      <td>performed on leukocyte DNA and included methyl...</td>\n",
       "      <td>Molecular investigations were</td>\n",
       "      <td>2022.0</td>\n",
       "    </tr>\n",
       "  </tbody>\n",
       "</table>\n",
       "</div>"
      ],
      "text/plain": [
       "     id title authors                                            content  \\\n",
       "528 NaN   NaN     NaN  performed on leukocyte DNA and included methyl...   \n",
       "\n",
       "                            header    year  \n",
       "528  Molecular investigations were  2022.0  "
      ]
     },
     "execution_count": 77,
     "metadata": {},
     "output_type": "execute_result"
    }
   ],
   "source": [
    "pl2022[pl2022.isnull().any(axis=1)]"
   ]
  },
  {
   "cell_type": "code",
   "execution_count": 24,
   "metadata": {},
   "outputs": [],
   "source": [
    "pl2013 = pd.read_csv(os.path.join(CSV_FOLDER_PATH, '2013-platform-abstracts.csv'))\n",
    "po2013 = pd.read_csv(os.path.join(CSV_FOLDER_PATH, '2013-poster-abstracts.csv'))"
   ]
  },
  {
   "cell_type": "code",
   "execution_count": 25,
   "metadata": {},
   "outputs": [
    {
     "ename": "TypeError",
     "evalue": "bad operand type for unary ~: 'float'",
     "output_type": "error",
     "traceback": [
      "\u001b[0;31m---------------------------------------------------------------------------\u001b[0m",
      "\u001b[0;31mTypeError\u001b[0m                                 Traceback (most recent call last)",
      "Cell \u001b[0;32mIn[25], line 1\u001b[0m\n\u001b[0;32m----> 1\u001b[0m po2013[\u001b[38;5;241;43m~\u001b[39;49m\u001b[43mpo2013\u001b[49m\u001b[43m[\u001b[49m\u001b[38;5;124;43m'\u001b[39;49m\u001b[38;5;124;43mauthors\u001b[39;49m\u001b[38;5;124;43m'\u001b[39;49m\u001b[43m]\u001b[49m\u001b[38;5;241;43m.\u001b[39;49m\u001b[43mstr\u001b[49m\u001b[38;5;241;43m.\u001b[39;49m\u001b[43mendswith\u001b[49m\u001b[43m(\u001b[49m\u001b[38;5;28;43mtuple\u001b[39;49m\u001b[43m(\u001b[49m\u001b[38;5;124;43m'\u001b[39;49m\u001b[38;5;124;43m?.!\u001b[39;49m\u001b[38;5;124;43m'\u001b[39;49m\u001b[43m)\u001b[49m\u001b[43m)\u001b[49m]\u001b[38;5;241m.\u001b[39mtitle\u001b[38;5;241m.\u001b[39mvalues\n",
      "File \u001b[0;32m~/anaconda3/lib/python3.10/site-packages/pandas/core/generic.py:1522\u001b[0m, in \u001b[0;36mNDFrame.__invert__\u001b[0;34m(self)\u001b[0m\n\u001b[1;32m   <a href='file:///Users/shunji/anaconda3/lib/python3.10/site-packages/pandas/core/generic.py?line=1517'>1518</a>\u001b[0m \u001b[39mif\u001b[39;00m \u001b[39mnot\u001b[39;00m \u001b[39mself\u001b[39m\u001b[39m.\u001b[39msize:\n\u001b[1;32m   <a href='file:///Users/shunji/anaconda3/lib/python3.10/site-packages/pandas/core/generic.py?line=1518'>1519</a>\u001b[0m     \u001b[39m# inv fails with 0 len\u001b[39;00m\n\u001b[1;32m   <a href='file:///Users/shunji/anaconda3/lib/python3.10/site-packages/pandas/core/generic.py?line=1519'>1520</a>\u001b[0m     \u001b[39mreturn\u001b[39;00m \u001b[39mself\u001b[39m\n\u001b[0;32m-> <a href='file:///Users/shunji/anaconda3/lib/python3.10/site-packages/pandas/core/generic.py?line=1521'>1522</a>\u001b[0m new_data \u001b[39m=\u001b[39m \u001b[39mself\u001b[39;49m\u001b[39m.\u001b[39;49m_mgr\u001b[39m.\u001b[39;49mapply(operator\u001b[39m.\u001b[39;49minvert)\n\u001b[1;32m   <a href='file:///Users/shunji/anaconda3/lib/python3.10/site-packages/pandas/core/generic.py?line=1522'>1523</a>\u001b[0m \u001b[39mreturn\u001b[39;00m \u001b[39mself\u001b[39m\u001b[39m.\u001b[39m_constructor(new_data)\u001b[39m.\u001b[39m__finalize__(\u001b[39mself\u001b[39m, method\u001b[39m=\u001b[39m\u001b[39m\"\u001b[39m\u001b[39m__invert__\u001b[39m\u001b[39m\"\u001b[39m)\n",
      "File \u001b[0;32m~/anaconda3/lib/python3.10/site-packages/pandas/core/internals/managers.py:350\u001b[0m, in \u001b[0;36mBaseBlockManager.apply\u001b[0;34m(self, f, align_keys, ignore_failures, **kwargs)\u001b[0m\n\u001b[1;32m    <a href='file:///Users/shunji/anaconda3/lib/python3.10/site-packages/pandas/core/internals/managers.py?line=347'>348</a>\u001b[0m \u001b[39mtry\u001b[39;00m:\n\u001b[1;32m    <a href='file:///Users/shunji/anaconda3/lib/python3.10/site-packages/pandas/core/internals/managers.py?line=348'>349</a>\u001b[0m     \u001b[39mif\u001b[39;00m \u001b[39mcallable\u001b[39m(f):\n\u001b[0;32m--> <a href='file:///Users/shunji/anaconda3/lib/python3.10/site-packages/pandas/core/internals/managers.py?line=349'>350</a>\u001b[0m         applied \u001b[39m=\u001b[39m b\u001b[39m.\u001b[39;49mapply(f, \u001b[39m*\u001b[39;49m\u001b[39m*\u001b[39;49mkwargs)\n\u001b[1;32m    <a href='file:///Users/shunji/anaconda3/lib/python3.10/site-packages/pandas/core/internals/managers.py?line=350'>351</a>\u001b[0m     \u001b[39melse\u001b[39;00m:\n\u001b[1;32m    <a href='file:///Users/shunji/anaconda3/lib/python3.10/site-packages/pandas/core/internals/managers.py?line=351'>352</a>\u001b[0m         applied \u001b[39m=\u001b[39m \u001b[39mgetattr\u001b[39m(b, f)(\u001b[39m*\u001b[39m\u001b[39m*\u001b[39mkwargs)\n",
      "File \u001b[0;32m~/anaconda3/lib/python3.10/site-packages/pandas/core/internals/blocks.py:351\u001b[0m, in \u001b[0;36mBlock.apply\u001b[0;34m(self, func, **kwargs)\u001b[0m\n\u001b[1;32m    <a href='file:///Users/shunji/anaconda3/lib/python3.10/site-packages/pandas/core/internals/blocks.py?line=344'>345</a>\u001b[0m \u001b[39m@final\u001b[39m\n\u001b[1;32m    <a href='file:///Users/shunji/anaconda3/lib/python3.10/site-packages/pandas/core/internals/blocks.py?line=345'>346</a>\u001b[0m \u001b[39mdef\u001b[39;00m \u001b[39mapply\u001b[39m(\u001b[39mself\u001b[39m, func, \u001b[39m*\u001b[39m\u001b[39m*\u001b[39mkwargs) \u001b[39m-\u001b[39m\u001b[39m>\u001b[39m \u001b[39mlist\u001b[39m[Block]:\n\u001b[1;32m    <a href='file:///Users/shunji/anaconda3/lib/python3.10/site-packages/pandas/core/internals/blocks.py?line=346'>347</a>\u001b[0m \u001b[39m    \u001b[39m\u001b[39m\"\"\"\u001b[39;00m\n\u001b[1;32m    <a href='file:///Users/shunji/anaconda3/lib/python3.10/site-packages/pandas/core/internals/blocks.py?line=347'>348</a>\u001b[0m \u001b[39m    apply the function to my values; return a block if we are not\u001b[39;00m\n\u001b[1;32m    <a href='file:///Users/shunji/anaconda3/lib/python3.10/site-packages/pandas/core/internals/blocks.py?line=348'>349</a>\u001b[0m \u001b[39m    one\u001b[39;00m\n\u001b[1;32m    <a href='file:///Users/shunji/anaconda3/lib/python3.10/site-packages/pandas/core/internals/blocks.py?line=349'>350</a>\u001b[0m \u001b[39m    \"\"\"\u001b[39;00m\n\u001b[0;32m--> <a href='file:///Users/shunji/anaconda3/lib/python3.10/site-packages/pandas/core/internals/blocks.py?line=350'>351</a>\u001b[0m     result \u001b[39m=\u001b[39m func(\u001b[39mself\u001b[39;49m\u001b[39m.\u001b[39;49mvalues, \u001b[39m*\u001b[39;49m\u001b[39m*\u001b[39;49mkwargs)\n\u001b[1;32m    <a href='file:///Users/shunji/anaconda3/lib/python3.10/site-packages/pandas/core/internals/blocks.py?line=352'>353</a>\u001b[0m     \u001b[39mreturn\u001b[39;00m \u001b[39mself\u001b[39m\u001b[39m.\u001b[39m_split_op_result(result)\n",
      "\u001b[0;31mTypeError\u001b[0m: bad operand type for unary ~: 'float'"
     ]
    }
   ],
   "source": [
    "po2013[~po2013['authors'].str.endswith(tuple('?.!'))].title.values"
   ]
  },
  {
   "cell_type": "code",
   "execution_count": 53,
   "metadata": {},
   "outputs": [],
   "source": [
    "po2013 = po2013[po2013['content'].notnull()]"
   ]
  },
  {
   "cell_type": "code",
   "execution_count": 54,
   "metadata": {},
   "outputs": [],
   "source": [
    "pl2014 = pd.read_csv(os.path.join(CSV_FOLDER_PATH, '2014-platform-abstracts.csv'))\n",
    "po2014 = pd.read_csv(os.path.join(CSV_FOLDER_PATH, '2014-poster-abstracts.csv'))"
   ]
  },
  {
   "cell_type": "code",
   "execution_count": null,
   "metadata": {},
   "outputs": [],
   "source": []
  },
  {
   "cell_type": "code",
   "execution_count": 28,
   "metadata": {},
   "outputs": [
    {
     "data": {
      "text/plain": [
       "array([], dtype=object)"
      ]
     },
     "execution_count": 28,
     "metadata": {},
     "output_type": "execute_result"
    }
   ],
   "source": [
    "pl2014[~pl2014['title'].str.endswith(tuple('?.!'))].title.values"
   ]
  },
  {
   "cell_type": "code",
   "execution_count": 29,
   "metadata": {},
   "outputs": [
    {
     "data": {
      "text/plain": [
       "array(['Race-specific association between DNA methylation and body mass index: the Bogalusa Heart Study.'],\n",
       "      dtype=object)"
      ]
     },
     "execution_count": 29,
     "metadata": {},
     "output_type": "execute_result"
    }
   ],
   "source": [
    "po2014[~po2014['content'].str.endswith(tuple('?.!'))].title.values"
   ]
  },
  {
   "cell_type": "code",
   "execution_count": 64,
   "metadata": {},
   "outputs": [],
   "source": [
    "pl2015 = pd.read_csv(os.path.join(CSV_FOLDER_PATH, '2015-platform-abstracts-min.csv'))\n",
    "po2015 = pd.read_csv(os.path.join(CSV_FOLDER_PATH, '2015-poster-abstracts.csv'))"
   ]
  },
  {
   "cell_type": "code",
   "execution_count": 56,
   "metadata": {},
   "outputs": [
    {
     "data": {
      "text/plain": [
       "390"
      ]
     },
     "execution_count": 56,
     "metadata": {},
     "output_type": "execute_result"
    }
   ],
   "source": [
    "len(pl2015)"
   ]
  },
  {
   "cell_type": "code",
   "execution_count": 69,
   "metadata": {},
   "outputs": [
    {
     "data": {
      "text/html": [
       "<div>\n",
       "<style scoped>\n",
       "    .dataframe tbody tr th:only-of-type {\n",
       "        vertical-align: middle;\n",
       "    }\n",
       "\n",
       "    .dataframe tbody tr th {\n",
       "        vertical-align: top;\n",
       "    }\n",
       "\n",
       "    .dataframe thead th {\n",
       "        text-align: right;\n",
       "    }\n",
       "</style>\n",
       "<table border=\"1\" class=\"dataframe\">\n",
       "  <thead>\n",
       "    <tr style=\"text-align: right;\">\n",
       "      <th></th>\n",
       "      <th>id</th>\n",
       "      <th>title</th>\n",
       "      <th>authors</th>\n",
       "      <th>content</th>\n",
       "      <th>header</th>\n",
       "      <th>year</th>\n",
       "    </tr>\n",
       "  </thead>\n",
       "  <tbody>\n",
       "  </tbody>\n",
       "</table>\n",
       "</div>"
      ],
      "text/plain": [
       "Empty DataFrame\n",
       "Columns: [id, title, authors, content, header, year]\n",
       "Index: []"
      ]
     },
     "execution_count": 69,
     "metadata": {},
     "output_type": "execute_result"
    }
   ],
   "source": [
    "pl2015[pl2015.isnull().any(axis=1)]"
   ]
  },
  {
   "cell_type": "code",
   "execution_count": 50,
   "metadata": {},
   "outputs": [
    {
     "data": {
      "text/html": [
       "<div>\n",
       "<style scoped>\n",
       "    .dataframe tbody tr th:only-of-type {\n",
       "        vertical-align: middle;\n",
       "    }\n",
       "\n",
       "    .dataframe tbody tr th {\n",
       "        vertical-align: top;\n",
       "    }\n",
       "\n",
       "    .dataframe thead th {\n",
       "        text-align: right;\n",
       "    }\n",
       "</style>\n",
       "<table border=\"1\" class=\"dataframe\">\n",
       "  <thead>\n",
       "    <tr style=\"text-align: right;\">\n",
       "      <th></th>\n",
       "      <th>id</th>\n",
       "      <th>title</th>\n",
       "      <th>authors</th>\n",
       "      <th>content</th>\n",
       "      <th>header</th>\n",
       "      <th>year</th>\n",
       "    </tr>\n",
       "  </thead>\n",
       "  <tbody>\n",
       "  </tbody>\n",
       "</table>\n",
       "</div>"
      ],
      "text/plain": [
       "Empty DataFrame\n",
       "Columns: [id, title, authors, content, header, year]\n",
       "Index: []"
      ]
     },
     "execution_count": 50,
     "metadata": {},
     "output_type": "execute_result"
    }
   ],
   "source": [
    "po2015[po2015.isnull().any(axis=1)]"
   ]
  },
  {
   "cell_type": "code",
   "execution_count": 70,
   "metadata": {},
   "outputs": [],
   "source": [
    "po2015_1885W = {\n",
    "    'id': '1885W', \n",
    "    'title': 'A Multi-Ethnic Genotyping Array for the Next Generation of Association Studies.', \n",
    "    'authors': '''C. R. Gignoux, G. L. Wojcik1, H. R. Johnston2, C. Fuchsberger3, S. Shringarpure1, \n",
    "                A. R. Martin1, S. Rosse4, N. Zubair4, D. Taliun3, R. Welch3, C. Pethigoya5, J. O’Connell5, L. McAuliffe5, \n",
    "                C. Rosenow5, N. S. Abdul-husn6, G. Belbin6, H. M. Kang3, G. Abecasis3, M. Boehnke3, Z. S. Qin2, J. M. Romm7, \n",
    "                C. A. Haiman8, C. Kooperberg4, R. J. Loos6, T. C. Matise9, K. E. North10, C. Carlson4, K. C. Barnes11, \n",
    "                C. D. Bustamante1, E. E. Kenny6, Population Architecture using Genomics and Epidemiology (PAGE) Study. 1) \n",
    "                Department of Genetics, Stanford University School of Medicine, Stanford, CA; 2) Department of Biostatistics \n",
    "                and Bioinformatics, Rollins School of Public Health, Atlanta, GA; 3) Department of Biostatistics, School of \n",
    "                Public Health, University of Michigan, Ann Arbor, MI; 4) Fred Hutchinson Cancer Research Center, Seattle, WA; \n",
    "                5) Illumina Inc. , San Diego, CA; 6) Department of Genetic and Genomic Sciences, Icahn School of Medicine at \n",
    "                Mount Sinai, New York, NY; 7) Center for Inherited Disease Research, Johns Hopkins University, Baltimore, MD; \n",
    "                8) Department of Preventive Medicine, Norris Comprehensive Cancer Center, Keck School of Medicine, University \n",
    "                of Southern California, Los Angeles, CA; 9) Department of Genetics, Rutgers University, Piscataway, NJ; 10) \n",
    "                Department of Epidemiology, School of Public Health, University of North Carolina at Chapel Hill, Chapel Hill, \n",
    "                NC; 11) Department of Medicine, Johns Hopkins University School of Medicine, Baltimore, MD.''',\n",
    "    'content': '''In the past decade, genome-wide association studies (GWAS) have been extraordinarily successful \n",
    "                in uncovering genetic factors underlying complex traits. However much of this work has only been performed in \n",
    "                populations of European descent. To address this disparity, a collaboration between Illumina, PAGE, CAAPA \n",
    "                (Consortium on Asthma among African-ancestry Populations in the Americas), and T2D Genes Consortium developed \n",
    "                the 1. 9M SNP Multi-Ethnic Genotyping Array (MEGA). This array is designed to be a single platform to interrogate \n",
    "                diverse variation from across the frequency spectrum and screen for prior genetic discoveries. The GWAS backbone \n",
    "                is informed by whole genome sequences from the 1000 Genomes Project (TGP) and CAAPA, with additional compatibility \n",
    "                from the Illumina HumanCore array. We developed a novel cross-population tag SNP strategy to maximize imputation \n",
    "                accuracy for low frequency variants across six continental populations, with improved performance from previous \n",
    "                generations of arrays. Importantly the performance of the array is high across all continental TGP superpopulations \n",
    "                (>90% accuracy for MAF >=1%). We chose rare, functional candidates from >36,000 multi-ethnic exomes, prioritizing \n",
    "                loss-of-function and predicted damaging sites. We also curated variants with domain experts, including boosting \n",
    "                coverage in regions of interest (e. g. MHC), over 5,000 ancestry informative markers, uniparental markers, and over \n",
    "                25,000 variants of clinical, prior GWAS, pharmacogenetic, and eQTL importance. A reference panel of several thousand \n",
    "                individuals, including HGDP and a large panel of Native Americans, is available on MEGA to aid in rare variant calling, \n",
    "                ancestry characterization, and admixture analyses. We will present data on MEGA genotyping of >60,000 African-American, \n",
    "                Hispanic/Latino, East Asian and Native Hawaiian individuals from PAGE and CAAPA. We will describe imputation performance \n",
    "                in these populations and others, including the improvements to imputation accuracy derived from larger whole genome \n",
    "                reference panels. Further details, summary statistics and other relevant information generated from the platform will be \n",
    "                placed in a centralized community repository at www. pagestudy. org/mega. We intend MEGA to be a platform and an analytical \n",
    "                resource for researchers interested in large-scale studies of diverse populations from across the globe.''',\n",
    "    'header': 'Bioinformatics and Genomic Technology',\n",
    "    'year': int(2015)\n",
    "}\n",
    "\n",
    "po2015_3108T = {\n",
    "    'id': '3108T', \n",
    "    'title': '3D-NOME: an integrated 3-Dimensional NucleOme Modeling Engine for data-driven simulation of spatial genome organization.', \n",
    "    'authors': '''D. Plewczynski1,2,3, P. Szalaj3,4, Z. Tang2, P. Michalski2, M. Pi tal1, O. Luo2, X. Li2, Y. Ruan2. 1) Centre of New Technologies, \n",
    "                University of Warsaw, 00-927 Warsaw, Poland; 2) The Jackson Laboratory for Genomic Medicine, Farmington, CT, USA; 3) Centre for Innovative \n",
    "                Research, Medical University of Bialystok, Bialystok, Poland; 4) I-BioStat, Hasselt University, Belgium.''',\n",
    "    'content': '''Background: Chromosomal folding are important features of genome organization, which play critical roles in genome functions, including \n",
    "                transcriptional regulation. Using 3C-based mapping technologies to render long-range chromatin interactions has started to reveal some basic \n",
    "                principles of spatial genome organization. Among 3D genome mapping technologies, ChIA-PET is unique in its ability to generate multiple datasets \n",
    "                (in a single experiment), including binding sites, enriched chromatin interactions (mediated by specific protein factors), as well as non-enriched \n",
    "                interactions that reflect topological neighborhoods of higher-order associations. The multifarious nature of ChIA-PET data represents an important \n",
    "                advantage in capturing multi-layer structural-functional information, but also imposes new challenges in multi-scale modeling of 3D genome. Results: \n",
    "                We report the development of 3D-NOME (3-Dimensional NucleOme Modeling Engine), for processing ChIA-PET data, which includes four components: 1) \n",
    "                identifying interactions from ChIAPET reads, 2) multidimensional scaling on proximity graph distances for rapid low-resolution structural inference, \n",
    "                3) multiscale Monte Carlo algorithm for high-resolution simulations, and 4) web-based visualizing tool. Using ChIA-PET data of human B-lymphocytes \n",
    "                (GM12878 cell line), we demonstrate the effectiveness of 3D-NOME in building 3D genome models at multiple levels, including the entire nucleome, \n",
    "                individual chromosomes, specific segments at megabase (Mb) and kilobase (kb) resolutions. We also consider CTCF-motif orientations and looping patterns \n",
    "                in order to achieve more reliable structures. Conclusions: 3D-NOME is an integrative computational pipeline that is effective in processing the \n",
    "                multifaceted ChIA-PET data for simulation of 3D genome from higher-order chromosome folding to detailed functional interactions mediated by protein \n",
    "                factors. Further refinement of 3D-NOME and application to additional ChIA-PET and other types of 3D genome mapping data will help to advance our \n",
    "                understanding of genome structures and functions.''',\n",
    "    'header': 'Genome Structure, Variation, and Function',\n",
    "    'year': int(2015)\n",
    "}\n",
    "\n",
    "po2015_3034T = {\n",
    "    'id': '3034T', \n",
    "    'title': '2p15-p16. 1 microdeletions encompassing and proximal to BCL11A are associated with elevated HbF in addition to neurologic impairment.', \n",
    "    'authors': '''A. P. W. Funnell1, P. Prontera2, V. Ottaviani3, M. Piccione4, A. Giambona5, A. Maggio5, F. Ciaffoni6, S. Stehling-Sun1, \n",
    "                M. Marra6, F. Masiello6, L. Varricchio7, A. R. Migliaccio7,8, T. Papayannopoulou9, J. A. Stamatoyannopoulos1,10. 1) Department of \n",
    "                Genome Sciences, University of Washington, Seattle, WA; 2) Centro di Riferimento Regionale Genetica Medica, Azienda \n",
    "                Ospedaliera-Universitaria di Perugia, Perugia, Italy; 3) Genetica Medica, IRCCS “Ospedale Casa Sollievo della Sofferenza”, San Giovanni \n",
    "                Rotondo, Foggia, Italy; 4) Dipartimento Scienze per la promozione della salute e materno-infantile “G. D’Alessandro” Université degli Studi \n",
    "                di Palermo, Palermo 90127, Italy; 5) U. O. C. di Ematologia delle Malattie Rare del Sangue e degli Organi Emopoietici. AOOR Villa Sofia \n",
    "                Cervello, Palermo 90146, Italy; 6) Department of Biologia Cellulare and Neuroscience, Istituto Superiore Sanita, Viale Regina Elena 299, \n",
    "                00161 Rome, Italy; 7) Department of Medicine, Mount Sinai School of Medicine, New York, NY 10029, USA; 8) Department of Biomedical Sciences, \n",
    "                University of Bologna, via Irnerio 48, 40126 Bologna, Italy; 9) Division of Hematology, Department of Medicine, University of Washington, \n",
    "                Seattle, WA 98195, USA; 10) Division of Oncology, Department of Medicine, University of Washington, Seattle, WA 98195, USA.''',\n",
    "    'content': '''-hemoglobinopathies, such as sickle cell anemia and -thalassemia, are amongst the most common genetic disorders worldwide. These diseases \n",
    "                arise from mutations that affect the function or expression of adult -globin (HBB). Treatment typically involves lifelong blood transfusion and \n",
    "                chelation therapy, with the only curative option being allogeneic transplantation of hematopoietic stem cells. However, it has long been known that \n",
    "                increased fetal hemoglobin (HbF) expression that persists into adulthood considerably ameliorates the clinical severity of these disorders. Reversing \n",
    "                the perinatal silencing of HbF has thus become a primary focus of therapeutic efforts. In recent years, the transcription factor BCL11A has emerged \n",
    "                as a key, and potent, repressor of HbF. Disrupting BCL11A function in an erythroid-specific fashion is rigorously being sought as a therapeutic option; \n",
    "                however, the potential impact of such disruption in humans has been unclear. This is due, in part, to the scarcity of reported mutations affecting the \n",
    "                coding region of BCL11A. Recently however, a number of patients have been described with shared neurodevelopmental defects arising from chromosome \n",
    "                2p15-p16. 1 microdeletions that variably cover segments of the BCL11A locus. Here, we have examined the hematological phenotype of three such patients \n",
    "                with distinct de novo microdeletions. All three display modestly reduced BCL11A expression in erythroblasts, and elevated HbF in peripheral blood \n",
    "                (approximately 5-10%). Interestingly, in one patient, the BCL11A coding gene is intact, with only a downstream region deleted. We have identified a number \n",
    "                of potential regulatory elements within this segment that are co-occupied by multiple principal erythroid transcription factors. We are currently employing \n",
    "                high throughput genome editing techniques to dissect the functionality of these candidate elements, with the anticipation that they might proffer attractive \n",
    "                targets for therapeutic intervention in the treatment of -hemoglobinopathies.''',\n",
    "    'header': 'Genome Structure, Variation, and Function',\n",
    "    'year': int(2015)\n",
    "}\n",
    "\n",
    "po2015_3070T = {\n",
    "    'id': '3070T', \n",
    "    'title': 'Transcriptional consequences of 2q23. 1 deletion syndrome in iPSC-derived neural progenitor cells provide insight into neurodevelopmental disorders and autism.', \n",
    "    'authors': '''S. V. Mullegama1, S. R. Williams2, J. T. Alaimo1, L. Chen1,3, F. J. Probst1, C. Haldeman-Englert4, J. W. Innis5, P. Stankiewicz1, S. W. Cheung1, \n",
    "                T. Ezashi6, S. H. Elsea1. 1) Department of Molecular and Human Genetics, Baylor College of Medicine, One Baylor Plaza, Houston, TX, 77030, USA; 2) Center \n",
    "                for Public Health Genomics, University of Virginia, Charlottesville, VA 22902, USA; 3) Department of Cellular and Genetic Medicine, School of Basic Medical \n",
    "                Sciences, Fudan University, Shanghai 200032, China; 4) Fullerton Genetics Center, Asheville, NC 28803; 5) Departments of Human Genetics and Pediatrics and \n",
    "                Communicable Diseases, University of Michigan, Ann Arbor, MI 48109, USA; 6) Division of Animal Sciences, University of Missouri, Columbia, Missouri 65211, USA.''',\n",
    "    'content': '''2q23. 1 deletion syndrome (2q23. 1 del) is a neurodevelopmental disorder in which haploinsufficiency of MBD5 is responsible for the core phenotype, which \n",
    "                includes intellectual disability (ID), autism spectrum disorder (ASD), seizures, speech impairment, motor delay, and sleep and behavioral problems. To comprehensively \n",
    "                understand the molecular role of MBD5 in early neuronal development, the 2q23. 1 del phenotype, and ASD, we generated neural progenitor cells (NPCs) derived from induced \n",
    "                pluripotent stem cells (iPSCs) that originated from 2q23. 1 del and age/ sex-matched control fibroblasts and performed transcriptome profiling by RNA-sequencing. Overall, \n",
    "                300 transcripts were differentially expressed as a consequence of reduced MBD5 dosage using Benjamini-Hochberg FDR (q<0. 05) analysis. Our transcriptome profile through \n",
    "                DAVID was enriched for neuronal development (P=0. 0002), neuronal migration (P=0. 0001), and neurogenesis (P=0. 00001). IPA identified a strong statistical enrichment for \n",
    "                pathways, including PTEN (P=0. 0003) and WNT signaling (P= 0. 003), which are critical contributors to neural stem cell and nervous system development. We identified genes \n",
    "                within our profile that are implicated in phenotypes present in 2q23. 1 del patients including ID (FMR1), seizures (SEZ6), speech impairment (FOXP2), motor delay (NR4A2), \n",
    "                and behavioral problems (ARTNL, HTR1B). Interestingly, 30% of our differentially expressed genes are associated with ASD as defined by the Simons Foundation and AutismKB \n",
    "                and are involved in essential cellular processes crucial in ASD pathogenesis including transcriptional regulation (MEF2C, FOXG1, NFIA), chromatin modification (CDH8, SIX1, \n",
    "                MEOX1), and neuronal function (NTNG1, GRIK2, LAMC3). In addition, when MBD5 is haploinsufficient, genes involved in phenotypically similar ASDs such as 5q14. 3 deletion \n",
    "                syndrome (MEF2C) and congenital variant of Rett syndrome (FOXG1) were dysregulated, suggesting that these genes function in a transcriptional cascade of common biological \n",
    "                networks that result in overlapping phenotypes. To identify possible novel deletion disorders, we queried our top 50 MBD5-down regulated genes, which were not linked to ASD \n",
    "                or OMIM disorders, through genome-wide aCGH databases and identified 17 candidate genes as possible disease causing genes. Overall, we demonstrate the multifactorial role of \n",
    "                MBD5 in the regulation of genes and pathways known to contribute to the genetic architecture of neurodevelopment and disease phenotypes.''',\n",
    "    'header': 'Genome Structure, Variation, and Function',\n",
    "    'year': int(2015)\n",
    "}\n",
    "\n",
    "pl2015_168 = {\n",
    "    'id': int(168), \n",
    "    'title': 'A phenotype-aware approach to the prioritization of coding and non-coding rare disease variants.', \n",
    "    'authors': '''D. Smedley1, J. Jacobsen1, C. Mungall2, N. Washington2, S. Kohler3, S.E. Lewis2, M. Haendel4, P.N. Robinson3. 1) Wellcome Trust Sanger Institute, Cambridge, \n",
    "                United Kingdom; 2) Genomics Division, Lawrence Berkeley National Laboratory, Berkeley, CA 94720, USA; 3) Institute for Medical and Human Genetics, Charite-Universitatsmedizin, \n",
    "                Berlin, Germany; 4) University Library and Department of Medical Informatics and Epidemiology, Oregon Health & Sciences University, Portland, OR, USA.''',\n",
    "    'content': '''Whole-exome sequencing has revolutionized rare disease research. However, many cases remain unsolved, in part because of the problem of prioritizing the ~100-1000 \n",
    "                loss of function, candidate variants that remain after removing those deemed as common or non-pathogenic. We have developed the Exomiser suite of algorithms to tackle this through \n",
    "                additional use of patient phenotype data e.g. hiPHIVE assesses each candidate gene by comparing the patient phenotypes to existing phenotypic knowledge from disease and model organism \n",
    "                databases. For genes with missing data, a guilt-by-association approach is used based on the phenotypic similarity of near-by genes in a protein-protein association network. Benchmarking \n",
    "                on known HGMD mutations added to unaffected 1000 Genomes Project exomes, reveals the causative variant is detected as the top hit in 97% of samples and in 87% when phenotypic knowledge \n",
    "                of the known disease-gene association was masked to simulate novel disease gene discovery. Exomiser is being successfully applied to diagnosis and gene discovery in the Undiagnosed Disease \n",
    "                Program.However, many cases still remain unsolved after exome analysis and a significant fraction may be due to the presence of non-coding, causative variants. With many projects such as \n",
    "                the UK 100,000 Genomes Project adopting whole genome sequencing, the potential to detect such variants exists if scalable and accurate analysis tools are developed. We have extended hiPHIVE \n",
    "                to also assess variants in proximal and distal non-coding regions including tissue-specific enhancers. The predicted deleteriousness of these variants is assessed through combining measures \n",
    "                of conservation with indicators of regulatory regions such as DNase I hypersensitivity and transcription factor binding sites. Through manual curation of the literature, we have developed \n",
    "                a database of genotype and phenotype associations for several hundred regulatory mutations known to cause rare diseases. hiPHIVE was able to detect these regulatory mutations as the top \n",
    "                hit in 64% of samples when they were added to whole genomes from the 1000 Genomes Project. By variant category the performance was 55% for promoters, 79% for 5’UTR, 47% for 3’UTR, 100% for \n",
    "                microRNA genes and 57% for enhancers. Finally, this extension to non-coding variation paves the way for development of phenotype-aware analysis software for common disease.''',\n",
    "    'header': 'ASHGAbstracts',\n",
    "    'year': int(2015)\n",
    "}\n",
    "\n",
    "po2015_1885W['content'] = re.sub(r'\\s*\\n\\s*', ' ', po2015_1885W['content'])\n",
    "po2015_1885W['authors'] = re.sub(r'\\s*\\n\\s*', ' ', po2015_1885W['authors'])\n",
    "\n",
    "po2015_3108T['content'] = re.sub(r'\\s*\\n\\s*', ' ', po2015_3108T['content'])\n",
    "po2015_3108T['authors'] = re.sub(r'\\s*\\n\\s*', ' ', po2015_3108T['authors'])\n",
    "\n",
    "po2015_3034T['content'] = re.sub(r'\\s*\\n\\s*', ' ', po2015_3034T['content'])\n",
    "po2015_3034T['authors'] = re.sub(r'\\s*\\n\\s*', ' ', po2015_3034T['authors'])\n",
    "\n",
    "po2015_3070T['content'] = re.sub(r'\\s*\\n\\s*', ' ', po2015_3070T['content'])\n",
    "po2015_3070T['authors'] = re.sub(r'\\s*\\n\\s*', ' ', po2015_3070T['authors'])\n",
    "\n",
    "pl2015_168['content'] = re.sub(r'\\s*\\n\\s*', ' ', pl2015_168['content'])\n",
    "pl2015_168['authors'] = re.sub(r'\\s*\\n\\s*', ' ', pl2015_168['authors'])\n",
    "\n",
    "po2015.set_index('id', inplace=True)\n",
    "pl2015.set_index('id', inplace=True)\n",
    "\n",
    "po2015.update(pd.DataFrame([po2015_1885W, po2015_3108T, po2015_3034T, po2015_3070T]).set_index('id'))\n",
    "pl2015.update(pd.DataFrame([pl2015_168]).set_index('id'))\n",
    "\n",
    "po2015.reset_index(inplace=True)\n",
    "pl2015.reset_index(inplace=True)"
   ]
  },
  {
   "cell_type": "code",
   "execution_count": 58,
   "metadata": {},
   "outputs": [
    {
     "data": {
      "text/plain": [
       "390"
      ]
     },
     "execution_count": 58,
     "metadata": {},
     "output_type": "execute_result"
    }
   ],
   "source": [
    "len(pl2015)"
   ]
  },
  {
   "cell_type": "code",
   "execution_count": 71,
   "metadata": {},
   "outputs": [],
   "source": [
    "pl2016 = pd.read_csv(os.path.join(CSV_FOLDER_PATH, '2016-plenary_platform_abstracts.csv'))\n",
    "po2016 = pd.read_csv(os.path.join(CSV_FOLDER_PATH, '2016-poster-abstracts.csv'))"
   ]
  },
  {
   "cell_type": "code",
   "execution_count": 72,
   "metadata": {},
   "outputs": [
    {
     "data": {
      "text/html": [
       "<div>\n",
       "<style scoped>\n",
       "    .dataframe tbody tr th:only-of-type {\n",
       "        vertical-align: middle;\n",
       "    }\n",
       "\n",
       "    .dataframe tbody tr th {\n",
       "        vertical-align: top;\n",
       "    }\n",
       "\n",
       "    .dataframe thead th {\n",
       "        text-align: right;\n",
       "    }\n",
       "</style>\n",
       "<table border=\"1\" class=\"dataframe\">\n",
       "  <thead>\n",
       "    <tr style=\"text-align: right;\">\n",
       "      <th></th>\n",
       "      <th>id</th>\n",
       "      <th>title</th>\n",
       "      <th>authors</th>\n",
       "      <th>content</th>\n",
       "      <th>header</th>\n",
       "      <th>year</th>\n",
       "    </tr>\n",
       "  </thead>\n",
       "  <tbody>\n",
       "    <tr>\n",
       "      <th>814</th>\n",
       "      <td>1142T</td>\n",
       "      <td>NaN</td>\n",
       "      <td>Unused Program Number</td>\n",
       "      <td>NaN</td>\n",
       "      <td>Evolution and Population Genetics</td>\n",
       "      <td>2016</td>\n",
       "    </tr>\n",
       "  </tbody>\n",
       "</table>\n",
       "</div>"
      ],
      "text/plain": [
       "        id title                authors content  \\\n",
       "814  1142T   NaN  Unused Program Number     NaN   \n",
       "\n",
       "                                header  year  \n",
       "814  Evolution and Population Genetics  2016  "
      ]
     },
     "execution_count": 72,
     "metadata": {},
     "output_type": "execute_result"
    }
   ],
   "source": [
    "po2016[po2016.isnull().any(axis=1)]"
   ]
  },
  {
   "cell_type": "code",
   "execution_count": 29,
   "metadata": {},
   "outputs": [],
   "source": [
    "po2016 = po2016[po2016['content'].notnull()]"
   ]
  },
  {
   "cell_type": "code",
   "execution_count": 38,
   "metadata": {},
   "outputs": [],
   "source": [
    "pl2017 = pd.read_csv(os.path.join(CSV_FOLDER_PATH, '2017_Platform-Abstracts.csv'))\n",
    "po2017 = pd.read_csv(os.path.join(CSV_FOLDER_PATH, '2017-Poster-Abstracts.csv'))"
   ]
  },
  {
   "cell_type": "code",
   "execution_count": 41,
   "metadata": {},
   "outputs": [],
   "source": [
    "po2017 = po2017[po2017['content'].notnull()]"
   ]
  },
  {
   "cell_type": "code",
   "execution_count": 4,
   "metadata": {},
   "outputs": [],
   "source": [
    "pl2018 = pd.read_csv(os.path.join(CSV_FOLDER_PATH, '2018-platform-plenary-abstracts.csv'))\n",
    "po2018 = pd.read_csv(os.path.join(CSV_FOLDER_PATH, '2018-poster-abstracts.csv'))"
   ]
  },
  {
   "cell_type": "code",
   "execution_count": 8,
   "metadata": {},
   "outputs": [],
   "source": [
    "po2018 = po2018[po2018['content'].notnull()]"
   ]
  },
  {
   "cell_type": "code",
   "execution_count": null,
   "metadata": {},
   "outputs": [],
   "source": []
  }
 ],
 "metadata": {
  "interpreter": {
   "hash": "bc75dd42ce9cafdeec5a3132421ceab791b30e2548b3af86f9b38e2535f5ee39"
  },
  "kernelspec": {
   "display_name": "Python 3.10.9 ('base')",
   "language": "python",
   "name": "python3"
  },
  "language_info": {
   "codemirror_mode": {
    "name": "ipython",
    "version": 3
   },
   "file_extension": ".py",
   "mimetype": "text/x-python",
   "name": "python",
   "nbconvert_exporter": "python",
   "pygments_lexer": "ipython3",
   "version": "3.10.9"
  },
  "orig_nbformat": 4
 },
 "nbformat": 4,
 "nbformat_minor": 2
}
