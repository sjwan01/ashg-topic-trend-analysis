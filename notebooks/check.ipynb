{
 "cells": [
  {
   "cell_type": "code",
   "execution_count": 1,
   "metadata": {},
   "outputs": [],
   "source": [
    "import os\n",
    "import pandas as pd\n",
    "import re\n",
    "import sys\n",
    "import fitz\n",
    "sys.path.append(os.path.abspath(os.path.join('..')))\n",
    "from src import *"
   ]
  },
  {
   "cell_type": "code",
   "execution_count": 2,
   "metadata": {},
   "outputs": [],
   "source": [
    "SCRIPT_DIR = os.getcwd()\n",
    "PARENT_DIR = os.path.dirname(SCRIPT_DIR)\n",
    "DATA_FOLDER_PATH = os.path.join(PARENT_DIR, 'data')\n",
    "PDF_FOLDER_PATH = os.path.join(DATA_FOLDER_PATH, 'pdf')\n",
    "CSV_FOLDER_PATH = os.path.join(DATA_FOLDER_PATH, 'csv')"
   ]
  },
  {
   "cell_type": "code",
   "execution_count": 29,
   "metadata": {},
   "outputs": [],
   "source": [
    "df = pd.read_csv(os.path.join(CSV_FOLDER_PATH, 'ASHG2020-PosterAbstracts.csv'))"
   ]
  },
  {
   "cell_type": "code",
   "execution_count": 31,
   "metadata": {},
   "outputs": [],
   "source": [
    "# df = df.drop(df.columns[[0]], axis=1)\n",
    "df.rename(columns={'abstract': 'content'}, inplace=True)\n",
    "df['year'] = '2020'\n",
    "df.to_csv(os.path.join(CSV_FOLDER_PATH, 'ASHG2020-PosterAbstracts.csv'), index=False, escapechar='\\\\')"
   ]
  },
  {
   "cell_type": "code",
   "execution_count": null,
   "metadata": {},
   "outputs": [],
   "source": [
    "df = pd.read_csv(os.path.join(DATA_FOLDER_PATH, 'training_data.csv'))"
   ]
  },
  {
   "cell_type": "code",
   "execution_count": null,
   "metadata": {},
   "outputs": [],
   "source": [
    "df[df.isnull().any(axis=1)]"
   ]
  },
  {
   "cell_type": "code",
   "execution_count": null,
   "metadata": {},
   "outputs": [],
   "source": [
    "len(df)"
   ]
  },
  {
   "cell_type": "code",
   "execution_count": null,
   "metadata": {},
   "outputs": [],
   "source": [
    "df[df['header'] == 'Molecular investigations were', :]"
   ]
  }
 ],
 "metadata": {
  "interpreter": {
   "hash": "bc75dd42ce9cafdeec5a3132421ceab791b30e2548b3af86f9b38e2535f5ee39"
  },
  "kernelspec": {
   "display_name": "Python 3.10.9 ('base')",
   "language": "python",
   "name": "python3"
  },
  "language_info": {
   "codemirror_mode": {
    "name": "ipython",
    "version": 3
   },
   "file_extension": ".py",
   "mimetype": "text/x-python",
   "name": "python",
   "nbconvert_exporter": "python",
   "pygments_lexer": "ipython3",
   "version": "3.10.9"
  },
  "orig_nbformat": 4
 },
 "nbformat": 4,
 "nbformat_minor": 2
}
